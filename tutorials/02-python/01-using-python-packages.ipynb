{
 "cells": [
  {
   "cell_type": "markdown",
   "metadata": {},
   "source": [
    "# Using Python packages from Nixpkgs\n",
    "\n",
    "This tutorial will show how to use Python packages from Nixpkgs."
   ]
  },
  {
   "cell_type": "markdown",
   "metadata": {},
   "source": [
    "## Python applications, libraries and environments\n",
    "\n",
    "In Nixpkgs a distinction is made between applications, libraries and environments. \n",
    "- Applications are programs for end-users such as Calibre the e-book manager. \n",
    "- Libraries are packages providing importable modules. Additionally, tools used for development of libraries are also considered libraries.\n",
    "- Environments are a Python interpreter along with libraries, typically used for development or as dependency for other programs.\n"
   ]
  },
  {
   "cell_type": "markdown",
   "metadata": {},
   "source": [
    "## Python application\n",
    "\n",
    "Let's consider first a Python application, Mercurial. The following recipe shows how to build it. For build and run-time dependencies we use the recipes provided by Nixpkgs. We then create a builder function for building our package. Finally, we call it."
   ]
  },
  {
   "cell_type": "code",
   "execution_count": null,
   "metadata": {},
   "outputs": [],
   "source": [
    "%%file default.nix\n",
    "\n",
    "let\n",
    "  nixpkgs = fetchTarball \"channel:nixos-20.03\";\n",
    "  pkgs = import nixpkgs {};\n",
    "\n",
    "  recipe = { python3, fetchurl }: \n",
    "    with python3.pkgs;\n",
    "        \n",
    "    buildPythonApplication rec {\n",
    "      pname = \"mercurial\";\n",
    "      version = \"5.2.2\";\n",
    "\n",
    "      src = fetchurl {\n",
    "        url = \"https://mercurial-scm.org/release/mercurial-${version}.tar.gz\";\n",
    "        sha256 = \"0fy00q0k4f0q64jjlnb7cl6m0sglivq9jgdddsp5sywc913zzigz\";\n",
    "      };\n",
    "    \n",
    "      # By default tests are executed, but they need to be invoked differently for this package\n",
    "      dontUseSetuptoolsCheck = true;\n",
    "    };\n",
    "\n",
    "in pkgs.callPackage recipe {}\n"
   ]
  },
  {
   "cell_type": "markdown",
   "metadata": {},
   "source": [
    "Let's build it."
   ]
  },
  {
   "cell_type": "code",
   "execution_count": null,
   "metadata": {},
   "outputs": [],
   "source": [
    "! nix-build"
   ]
  },
  {
   "cell_type": "markdown",
   "metadata": {},
   "source": [
    "We can now execute `hg` directly from the store path"
   ]
  },
  {
   "cell_type": "code",
   "execution_count": null,
   "metadata": {},
   "outputs": [],
   "source": [
    "! result/bin/hg --version"
   ]
  },
  {
   "cell_type": "markdown",
   "metadata": {},
   "source": [
    "or install it in our profile"
   ]
  },
  {
   "cell_type": "code",
   "execution_count": null,
   "metadata": {},
   "outputs": [],
   "source": [
    "! nix-env -if ."
   ]
  },
  {
   "cell_type": "markdown",
   "metadata": {},
   "source": [
    "bringing the executable onto `$PATH`."
   ]
  },
  {
   "cell_type": "code",
   "execution_count": null,
   "metadata": {},
   "outputs": [],
   "source": [
    "! hg --version"
   ]
  },
  {
   "cell_type": "markdown",
   "metadata": {},
   "source": [
    "Creating a recipe for Mercurial was easy. The recipe used in Nixpkgs is however more elaborate."
   ]
  },
  {
   "cell_type": "code",
   "execution_count": null,
   "metadata": {},
   "outputs": [],
   "source": [
    "! curl --silent https://raw.githubusercontent.com/NixOS/nixpkgs/nixos-20.03/pkgs/applications/version-management/mercurial/default.nix | pygmentize"
   ]
  }
 ],
 "metadata": {
  "kernelspec": {
   "display_name": "Python 3",
   "language": "python",
   "name": "python3"
  },
  "language_info": {
   "codemirror_mode": {
    "name": "ipython",
    "version": 3
   },
   "file_extension": ".py",
   "mimetype": "text/x-python",
   "name": "python",
   "nbconvert_exporter": "python",
   "pygments_lexer": "ipython3",
   "version": "3.7.5"
  }
 },
 "nbformat": 4,
 "nbformat_minor": 2
}
