{
 "cells": [
  {
   "cell_type": "markdown",
   "metadata": {},
   "source": [
    "# Using Nix\n",
    "\n",
    "This tutorial given an introduction to the basic `nix-*` commands."
   ]
  },
  {
   "cell_type": "markdown",
   "metadata": {},
   "source": [
    "## Building with `nix-build`\n",
    "\n",
    "The `nix-build` command is used for building recipes.\n",
    "\n",
    "In the following example we create a `recipe.nix` file. In this case,\n",
    "our recipe is simple: we fetch the latest version of NixOS 19.09 and build\n",
    "a package from it, `hello`."
   ]
  },
  {
   "cell_type": "code",
   "execution_count": null,
   "metadata": {},
   "outputs": [],
   "source": [
    "%%file recipe.nix\n",
    "with import (fetchTarball \"channel:nixos-19.09\") {};\n",
    "hello"
   ]
  },
  {
   "cell_type": "code",
   "execution_count": null,
   "metadata": {},
   "outputs": [],
   "source": [
    "! nix-build recipe.nix"
   ]
  },
  {
   "cell_type": "markdown",
   "metadata": {},
   "source": [
    "The store path shows where the build is cached. A symbolic link to that path is also created"
   ]
  },
  {
   "cell_type": "code",
   "execution_count": null,
   "metadata": {},
   "outputs": [],
   "source": [
    "! ls -l result"
   ]
  },
  {
   "cell_type": "markdown",
   "metadata": {},
   "source": [
    "We can run the `hello` command that is provided by it"
   ]
  },
  {
   "cell_type": "code",
   "execution_count": null,
   "metadata": {},
   "outputs": [],
   "source": [
    "! result/bin/hello"
   ]
  },
  {
   "cell_type": "markdown",
   "metadata": {},
   "source": [
    "## Managing channels with `nix-channel`\n",
    "\n",
    "Nix has the concept of channels. A channel is essentially a location providing Nix expressions. The Nixpkgs project offers various channels.\n",
    "\n",
    "We will now install a channel..."
   ]
  },
  {
   "cell_type": "markdown",
   "metadata": {},
   "source": [
    "## Installing with `nix-env`\n",
    "\n",
    "Nix has the concept of profiles where users can install packages in. The `nix-env` command is used for installing packages."
   ]
  },
  {
   "cell_type": "markdown",
   "metadata": {},
   "source": [
    "## Shell with specified packages\n",
    "\n",
    "The `nix run` command allows you to use a program temporarily; after closing the shell the program is \"gone\". Well, not really, it is still in the store but it can be garbage-collected again.\n",
    "\n",
    "The following one-liner calls `nix run`, tells it to use the Nix expressions found at `channel-nixos-20.03`, and then open a shell that has the Python 3 package. We also directly invoke `python3` using `--command` and tell `python3` to print `hello`."
   ]
  },
  {
   "cell_type": "code",
   "execution_count": null,
   "metadata": {},
   "outputs": [],
   "source": [
    "! nix run --file channel:nixos-20.03 python3 --command python3 -c 'print(\"hello!\")'"
   ]
  }
 ],
 "metadata": {
  "kernelspec": {
   "display_name": "Python 3",
   "language": "python",
   "name": "python3"
  },
  "language_info": {
   "codemirror_mode": {
    "name": "ipython",
    "version": 3
   },
   "file_extension": ".py",
   "mimetype": "text/x-python",
   "name": "python",
   "nbconvert_exporter": "python",
   "pygments_lexer": "ipython3",
   "version": "3.7.5"
  }
 },
 "nbformat": 4,
 "nbformat_minor": 2
}
