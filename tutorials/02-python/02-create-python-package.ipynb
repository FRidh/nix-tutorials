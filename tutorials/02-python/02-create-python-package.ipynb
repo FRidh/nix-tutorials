{
 "cells": [
  {
   "cell_type": "markdown",
   "metadata": {},
   "source": [
    "# Create a Python package\n",
    "\n",
    "In this notebook we will create a Python package using Nix and Nixpkgs.\n",
    "\n",
    "We will start with a Python package that provides a library of modules that are meant to be important. After that, we package an application."
   ]
  },
  {
   "cell_type": "code",
   "execution_count": null,
   "metadata": {},
   "outputs": [],
   "source": [
    "%%file default.nix\n",
    "\n",
    "{}\n"
   ]
  },
  {
   "cell_type": "markdown",
   "metadata": {},
   "source": [
    "## Contributing a Python package to Nixpkgs\n",
    "\n",
    "When contributing a Python package to Nixpkgs the pull request needs to be according to the general Nixpkgs cotnributing guidelines as well as the Python-specific contributing guidelines."
   ]
  },
  {
   "cell_type": "code",
   "execution_count": null,
   "metadata": {},
   "outputs": [],
   "source": []
  }
 ],
 "metadata": {
  "kernelspec": {
   "display_name": "Python 3",
   "language": "python",
   "name": "python3"
  },
  "language_info": {
   "codemirror_mode": {
    "name": "ipython",
    "version": 3
   },
   "file_extension": ".py",
   "mimetype": "text/x-python",
   "name": "python",
   "nbconvert_exporter": "python",
   "pygments_lexer": "ipython3",
   "version": "3.7.5"
  }
 },
 "nbformat": 4,
 "nbformat_minor": 2
}
